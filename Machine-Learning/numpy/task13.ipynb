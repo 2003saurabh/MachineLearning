{
 "cells": [
  {
   "cell_type": "code",
   "execution_count": 1,
   "id": "2e4eaade-6a0b-4db4-aa72-06e83a36a08b",
   "metadata": {},
   "outputs": [],
   "source": [
    "import numpy as np"
   ]
  },
  {
   "cell_type": "markdown",
   "id": "9ea09876-9a47-49f1-9867-39e5d6693ad2",
   "metadata": {},
   "source": [
    "## Q-1 Create a null vector of size 10 but the fifth value which is 1."
   ]
  },
  {
   "cell_type": "code",
   "execution_count": null,
   "id": "e6975b7b-01c0-44d3-a2b1-b63e640ea0c5",
   "metadata": {},
   "outputs": [],
   "source": [
    "a=np.nan*np.empty(10)\n",
    "a[4]=1"
   ]
  },
  {
   "cell_type": "code",
   "execution_count": 27,
   "id": "1d72bb64-1b1c-4cb7-b9d8-897495cbcfb9",
   "metadata": {},
   "outputs": [
    {
     "data": {
      "text/plain": [
       "array([nan, nan, nan, nan,  1., nan, nan, nan, nan, nan])"
      ]
     },
     "execution_count": 27,
     "metadata": {},
     "output_type": "execute_result"
    }
   ],
   "source": [
    "a"
   ]
  },
  {
   "cell_type": "markdown",
   "id": "cfe7401e-6e5b-4aed-b4d6-3ef6e4594ab3",
   "metadata": {},
   "source": [
    "## Q-2 Ask user to input two numbers a, b. Write a program to generate a random array of shape (a, b) and print the array and avg of the array."
   ]
  },
  {
   "cell_type": "code",
   "execution_count": 30,
   "id": "97a920f1-f8d7-437d-87f6-b816d79b26a4",
   "metadata": {},
   "outputs": [
    {
     "name": "stdin",
     "output_type": "stream",
     "text": [
      "enter number 1\n",
      "enter number 11\n"
     ]
    },
    {
     "name": "stdout",
     "output_type": "stream",
     "text": [
      "[[0.3360469  0.81701187 0.54740845 0.15799269 0.51876706 0.53594645\n",
      "  0.93225085 0.19095893 0.89871132 0.86317276 0.70014521]]\n",
      "0.590764770757858\n"
     ]
    }
   ],
   "source": [
    "# a,b = map(int, input(\"Enter two numbers: \").split())\n",
    "\n",
    "a=int(input(\"enter number\"))\n",
    "b=int(input(\"enter number\"))\n",
    "x=np.random.random((a,b))\n",
    "print(x)\n",
    "print(np.mean(x))"
   ]
  },
  {
   "cell_type": "markdown",
   "id": "ae041124-8f54-406c-be4e-f06aab1cb520",
   "metadata": {},
   "source": [
    "##  Q-3 Write a function to create a 2d array with 1 on the border and 0 inside. Take 2-D array shape as (a,b) as parameter to function."
   ]
  },
  {
   "cell_type": "code",
   "execution_count": 33,
   "id": "208f7933-1579-46d6-9bda-f932c9b617f6",
   "metadata": {},
   "outputs": [
    {
     "data": {
      "text/plain": [
       "array([[1., 1., 1., 1., 1.],\n",
       "       [1., 0., 0., 0., 1.],\n",
       "       [1., 0., 0., 0., 1.],\n",
       "       [1., 1., 1., 1., 1.]])"
      ]
     },
     "execution_count": 33,
     "metadata": {},
     "output_type": "execute_result"
    }
   ],
   "source": [
    "def borderarray(a,b):\n",
    "    x=np.ones((a,b))\n",
    "    x[1:-1,1:-1]=0\n",
    "    return x\n",
    "borderarray(4,5)    "
   ]
  },
  {
   "cell_type": "markdown",
   "id": "1897fba4-ba54-489f-af56-d2551af340de",
   "metadata": {},
   "source": [
    "## Q-4 Create a vector of size 10 with values ranging from 0 to 1, both excluded."
   ]
  },
  {
   "cell_type": "code",
   "execution_count": 40,
   "id": "1cf75741-858d-4ed8-9484-c6e85665e3ab",
   "metadata": {},
   "outputs": [
    {
     "data": {
      "text/plain": [
       "array([0.09090909, 0.18181818, 0.27272727, 0.36363636, 0.45454545,\n",
       "       0.54545455, 0.63636364, 0.72727273, 0.81818182, 0.90909091])"
      ]
     },
     "execution_count": 40,
     "metadata": {},
     "output_type": "execute_result"
    }
   ],
   "source": [
    "a1=np.linspace(0,1,12)[1:-1]\n",
    "a1"
   ]
  },
  {
   "cell_type": "markdown",
   "id": "830ca77a-ac05-428b-8931-6dc20c7c8c00",
   "metadata": {},
   "source": [
    "## Q-5 Can you create a identity mattrix of shape (3,4). If yes write code for it."
   ]
  },
  {
   "cell_type": "code",
   "execution_count": 42,
   "id": "3e98f28d-073e-4e73-971b-d5d816fee5d6",
   "metadata": {},
   "outputs": [
    {
     "data": {
      "text/plain": [
       "array([[1., 0., 0.],\n",
       "       [0., 1., 0.],\n",
       "       [0., 0., 1.]])"
      ]
     },
     "execution_count": 42,
     "metadata": {},
     "output_type": "execute_result"
    }
   ],
   "source": [
    "np.eye(3)\n",
    "np.identity(3)"
   ]
  },
  {
   "cell_type": "markdown",
   "id": "0d209005-6d85-4c55-8859-15817411252a",
   "metadata": {},
   "source": [
    "##  Q-6: Create a 5x5 matrix with row values ranging from 0 to 4."
   ]
  },
  {
   "cell_type": "code",
   "execution_count": 43,
   "id": "f10d3214-f09d-4258-951f-dc9f061b7b38",
   "metadata": {},
   "outputs": [
    {
     "data": {
      "text/plain": [
       "array([[0., 1., 2., 3., 4.],\n",
       "       [0., 1., 2., 3., 4.],\n",
       "       [0., 1., 2., 3., 4.],\n",
       "       [0., 1., 2., 3., 4.],\n",
       "       [0., 1., 2., 3., 4.]])"
      ]
     },
     "execution_count": 43,
     "metadata": {},
     "output_type": "execute_result"
    }
   ],
   "source": [
    "z=np.zeros((5,5))\n",
    "z+=np.arange(5)\n",
    "z"
   ]
  },
  {
   "cell_type": "markdown",
   "id": "36f94e98-dab9-4668-a7f2-90bcbf6c3db1",
   "metadata": {},
   "source": [
    "##  Q-7: Consider a random integer (in range 1 to 100) vector with shape (10,2) representing coordinates, and coordinates of a point as array is given. Create an array of distance of each point in the random vectros from the given point. Distance array should be interger type."
   ]
  },
  {
   "cell_type": "code",
   "execution_count": 48,
   "id": "5a669f0b-a50d-401a-8860-07aa20e6e44f",
   "metadata": {},
   "outputs": [
    {
     "data": {
      "text/plain": [
       "array([100,  37,   1,  83, 113,  44,  60,  54, 105,  63])"
      ]
     },
     "execution_count": 48,
     "metadata": {},
     "output_type": "execute_result"
    }
   ],
   "source": [
    "a = np.random.randint(1, 100, (10, 2))\n",
    "p = np.array([2,3])\n",
    "np.sqrt(np.sum((a-p)**2,axis=1)).astype(int)\n"
   ]
  },
  {
   "cell_type": "markdown",
   "id": "b99eacfa-2e5d-45ae-b6ca-d9a79fece2c4",
   "metadata": {},
   "source": [
    "## Q-8: Consider a (6,7,8) shape array, what is the index (x,y,z) of the 100th element?"
   ]
  },
  {
   "cell_type": "code",
   "execution_count": 50,
   "id": "be8c7435-0bb6-415b-b906-425590734ad9",
   "metadata": {},
   "outputs": [
    {
     "data": {
      "text/plain": [
       "(1, 5, 4)"
      ]
     },
     "execution_count": 50,
     "metadata": {},
     "output_type": "execute_result"
    }
   ],
   "source": [
    "np.unravel_index(100, (6,7,8))"
   ]
  },
  {
   "cell_type": "markdown",
   "id": "35722ada-5249-4cff-a81a-801dbb568303",
   "metadata": {},
   "source": [
    "### Q-9: Arrays\r\n",
    "You are given a space separated list of numbers. Your task is to print a reversed NumPy array with the element type float.\r\n",
    "\r\n",
    "Input Format:\r\n",
    "\r\n",
    "A single line of input containing space separated numbers.\r\n",
    "\r\n",
    "Output Format:\r\n",
    "\r\n",
    "Print the reverse NumPy array with type float.\r\n",
    "\r\n",
    "Example 1:"
   ]
  },
  {
   "cell_type": "code",
   "execution_count": null,
   "id": "8c338182-7ff5-4b62-85ac-c2cfdcf01d89",
   "metadata": {},
   "outputs": [],
   "source": [
    "a=input().strip().split\n",
    "np.array(a[::-1], dtype=np.float32)"
   ]
  },
  {
   "cell_type": "code",
   "execution_count": null,
   "id": "c98db8bc-c493-447f-9dbd-a6a32427e012",
   "metadata": {},
   "outputs": [],
   "source": []
  }
 ],
 "metadata": {
  "kernelspec": {
   "display_name": "Python 3 (ipykernel)",
   "language": "python",
   "name": "python3"
  },
  "language_info": {
   "codemirror_mode": {
    "name": "ipython",
    "version": 3
   },
   "file_extension": ".py",
   "mimetype": "text/x-python",
   "name": "python",
   "nbconvert_exporter": "python",
   "pygments_lexer": "ipython3",
   "version": "3.12.0"
  }
 },
 "nbformat": 4,
 "nbformat_minor": 5
}
