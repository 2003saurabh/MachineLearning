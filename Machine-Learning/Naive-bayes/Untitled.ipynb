{
 "cells": [
  {
   "cell_type": "code",
   "execution_count": 49,
   "id": "9d99db14-485f-4d24-8083-417e734eef52",
   "metadata": {},
   "outputs": [],
   "source": [
    "from sklearn.svm import SVC\n",
    "from sklearn.model_selection import GridSearchCV\n",
    "from sklearn.pipeline import Pipeline\n",
    "from sklearn.preprocessing import FunctionTransformer\n",
    "from sklearn.feature_extraction.text import CountVectorizer\n",
    "import pandas as pd\n",
    "import re\n",
    "from nltk.corpus import stopwords\n",
    "from nltk.stem import PorterStemmer"
   ]
  },
  {
   "cell_type": "code",
   "execution_count": 50,
   "id": "f7e29b0f-097f-4948-88dd-917022b066a1",
   "metadata": {},
   "outputs": [],
   "source": [
    "# Sample dataset\n",
    "df=pd.read_csv('./IMDB Dataset.csv')\n",
    "df=df.sample(10000)"
   ]
  },
  {
   "cell_type": "code",
   "execution_count": 51,
   "id": "b58670dc-8ad1-479c-9fd2-5c146a77eccb",
   "metadata": {},
   "outputs": [],
   "source": [
    "df['sentiment']=df['sentiment'].replace({'positive':1,'negative':0})"
   ]
  },
  {
   "cell_type": "code",
   "execution_count": 52,
   "id": "de669ad2-5a33-421a-a01e-18305e8ec5ed",
   "metadata": {},
   "outputs": [],
   "source": [
    "X=df['review']\n",
    "y=df['sentiment']"
   ]
  },
  {
   "cell_type": "code",
   "execution_count": 53,
   "id": "03a616cf-0bc0-4693-b7ed-e2e64b6a021f",
   "metadata": {},
   "outputs": [],
   "source": [
    "# Define the custom preprocessing functions\n",
    "def clean_html(text):\n",
    "    clean = re.compile('<.*?>')\n",
    "    return re.sub(clean, '', text)\n",
    "\n",
    "def convert_lower(text):\n",
    "    return text.lower()\n",
    "\n",
    "def remove_special(text):\n",
    "    return re.sub(r'[^a-zA-Z0-9\\s]', '', text)\n",
    "\n",
    "def remove_stopwords(text):\n",
    "    stop_words = set(stopwords.words('english'))\n",
    "    return ' '.join([word for word in text.split() if word not in stop_words])\n",
    "\n",
    "def stem_words(text):\n",
    "    ps = PorterStemmer()\n",
    "    return ' '.join([ps.stem(word) for word in text.split()])"
   ]
  },
  {
   "cell_type": "code",
   "execution_count": 54,
   "id": "7c27998d-07a5-4d97-9010-3c6c7541cb8f",
   "metadata": {},
   "outputs": [],
   "source": [
    "# Create a pipeline of the preprocessing steps using FunctionTransformer\n",
    "preprocessing = Pipeline(steps=[\n",
    "    ('html_clean', FunctionTransformer(lambda x: [clean_html(text) for text in x], validate=False)),\n",
    "    ('lowercase', FunctionTransformer(lambda x: [convert_lower(text) for text in x], validate=False)),\n",
    "    ('remove_special_chars', FunctionTransformer(lambda x: [remove_special(text) for text in x], validate=False)),\n",
    "    ('remove_stopwords', FunctionTransformer(lambda x: [remove_stopwords(text) for text in x], validate=False)),\n",
    "    ('stemming', FunctionTransformer(lambda x: [stem_words(text) for text in x], validate=False))\n",
    "])"
   ]
  },
  {
   "cell_type": "code",
   "execution_count": 55,
   "id": "9e22d81d-558f-4b14-949f-ca099610305d",
   "metadata": {},
   "outputs": [],
   "source": [
    "X_train,X_test,y_train,y_test=train_test_split(X,y,test_size=0.2,random_state=2)"
   ]
  },
  {
   "cell_type": "code",
   "execution_count": 56,
   "id": "4d842271-d281-48ea-9459-56173141bc7e",
   "metadata": {},
   "outputs": [],
   "source": [
    "# Combine the preprocessing with vectorization and SVM\n",
    "svm_pipeline = Pipeline(steps=[\n",
    "    ('preprocessing', preprocessing),\n",
    "    ('vectorizer', CountVectorizer()),  # Convert cleaned text to vectors\n",
    "    ('svm', SVC())                      # SVM model\n",
    "])"
   ]
  },
  {
   "cell_type": "code",
   "execution_count": 62,
   "id": "ad6b5f37-de65-4d74-a314-87ae1e3f7f43",
   "metadata": {},
   "outputs": [],
   "source": [
    "# Define the hyperparameter grid for tuning SVM\n",
    "param_grid = {\n",
    "    'svm__C': [0.1, 1, 10, 100],        # Regularization parameter\n",
    "    'svm__kernel': ['linear', 'rbf'],   # Kernel type\n",
    "    'svm__gamma': ['scale'],    # Kernel coefficient for 'rbf' kernel\n",
    "    'svm__degree': [2, 3, 4]            # Degree of the polynomial kernel (only used if kernel='poly')\n",
    "}"
   ]
  },
  {
   "cell_type": "code",
   "execution_count": 63,
   "id": "c7794826-a3b6-4935-abd8-22faabf7549f",
   "metadata": {},
   "outputs": [],
   "source": [
    "# Perform grid search with cross-validation\n",
    "grid_search = GridSearchCV(svm_pipeline, param_grid, cv=5, verbose=1, n_jobs=1)"
   ]
  },
  {
   "cell_type": "code",
   "execution_count": null,
   "id": "44d42b32-5d51-4a7c-899f-cac84a9db1bb",
   "metadata": {},
   "outputs": [
    {
     "name": "stdout",
     "output_type": "stream",
     "text": [
      "Fitting 5 folds for each of 24 candidates, totalling 120 fits\n"
     ]
    }
   ],
   "source": [
    "# Train the model with the best hyperparameters\n",
    " # Example target labels (positive, negative)\n",
    "\n",
    "# Fit the grid search\n",
    "grid_search.fit(X, y)"
   ]
  },
  {
   "cell_type": "code",
   "execution_count": null,
   "id": "9fc35f2c-ed96-466f-ace3-70fe77095603",
   "metadata": {},
   "outputs": [],
   "source": [
    "# Output the best parameters and best score\n",
    "print(\"Best Parameters:\", grid_search.best_params_)\n",
    "print(\"Best Cross-Validation Score:\", grid_search.best_score_)\n",
    "\n",
    "# Predict using the best model\n",
    "best_model = grid_search.best_estimator_\n",
    "predictions = best_model.predict(X)\n",
    "print(\"Predictions:\", predictions)"
   ]
  },
  {
   "cell_type": "code",
   "execution_count": null,
   "id": "5a32eeff-2155-4316-8745-2c3bb6820218",
   "metadata": {},
   "outputs": [],
   "source": []
  }
 ],
 "metadata": {
  "kernelspec": {
   "display_name": "Python 3 (ipykernel)",
   "language": "python",
   "name": "python3"
  },
  "language_info": {
   "codemirror_mode": {
    "name": "ipython",
    "version": 3
   },
   "file_extension": ".py",
   "mimetype": "text/x-python",
   "name": "python",
   "nbconvert_exporter": "python",
   "pygments_lexer": "ipython3",
   "version": "3.12.0"
  }
 },
 "nbformat": 4,
 "nbformat_minor": 5
}
