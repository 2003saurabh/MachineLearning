{
 "cells": [
  {
   "cell_type": "code",
   "execution_count": 1,
   "id": "5b29981e-d6db-4e58-98d1-364304b8247a",
   "metadata": {},
   "outputs": [],
   "source": [
    "from sklearn.datasets import fetch_california_housing\n",
    "import numpy as np"
   ]
  },
  {
   "cell_type": "code",
   "execution_count": 2,
   "id": "48c10880-a16d-4eca-87af-426fe2334b9e",
   "metadata": {},
   "outputs": [],
   "source": [
    "X,y=fetch_california_housing(return_X_y=True)"
   ]
  },
  {
   "cell_type": "code",
   "execution_count": 3,
   "id": "09bc1f12-80a1-491d-94c4-a89091b9775e",
   "metadata": {},
   "outputs": [
    {
     "data": {
      "text/plain": [
       "(20640, 8)"
      ]
     },
     "execution_count": 3,
     "metadata": {},
     "output_type": "execute_result"
    }
   ],
   "source": [
    "X.shape"
   ]
  },
  {
   "cell_type": "code",
   "execution_count": 4,
   "id": "416cc99f-2529-4570-9682-3c6b3dda0f19",
   "metadata": {},
   "outputs": [],
   "source": [
    "from sklearn.linear_model import LinearRegression\n",
    "from sklearn.tree import DecisionTreeRegressor\n",
    "from sklearn.svm import SVR\n",
    "from sklearn.model_selection import cross_val_score"
   ]
  },
  {
   "cell_type": "code",
   "execution_count": 5,
   "id": "efab88b2-6bb0-4f66-bbf3-6b68705d07c5",
   "metadata": {},
   "outputs": [],
   "source": [
    "lr=LinearRegression()\n",
    "dt=DecisionTreeRegressor()\n",
    "svr=SVR()"
   ]
  },
  {
   "cell_type": "code",
   "execution_count": 6,
   "id": "56d8fc4b-a247-43a3-95d8-1128b8921c4a",
   "metadata": {},
   "outputs": [],
   "source": [
    "estimators=[('lr',lr),('dt',dt),('svr',svr)]"
   ]
  },
  {
   "cell_type": "code",
   "execution_count": 7,
   "id": "dd5a042f-a90a-415e-8b4f-b5c87f0a7193",
   "metadata": {},
   "outputs": [
    {
     "name": "stdout",
     "output_type": "stream",
     "text": [
      "lr 0.55\n",
      "dt 0.34\n",
      "svr -0.11\n"
     ]
    }
   ],
   "source": [
    "for estimator in estimators:\n",
    "    scores=cross_val_score(estimator[1],X,y,scoring='r2',cv=5)\n",
    "    print(estimator[0],np.round(np.mean(scores),2))\n",
    "    "
   ]
  },
  {
   "cell_type": "code",
   "execution_count": 8,
   "id": "b05fc6de-095d-4f26-ad86-71443a035d28",
   "metadata": {},
   "outputs": [],
   "source": [
    "from sklearn.ensemble import VotingRegressor"
   ]
  },
  {
   "cell_type": "code",
   "execution_count": 10,
   "id": "dd67ee79-b630-44ad-abf9-8ca8066b6982",
   "metadata": {},
   "outputs": [
    {
     "name": "stdout",
     "output_type": "stream",
     "text": [
      "voting Regression 0.52\n"
     ]
    }
   ],
   "source": [
    "vr=VotingRegressor(estimators)\n",
    "scores=cross_val_score(vr,X,y,scoring='r2',cv=5)\n",
    "print('voting Regression',np.round(np.mean(scores),2))"
   ]
  },
  {
   "cell_type": "code",
   "execution_count": 11,
   "id": "13815a95-6f77-4777-aab8-0562ea1f87f5",
   "metadata": {},
   "outputs": [],
   "source": [
    "dt1=DecisionTreeRegressor(max_depth=2)\n",
    "dt2=DecisionTreeRegressor(max_depth=5)\n",
    "dt3=DecisionTreeRegressor(max_depth=7)\n",
    "dt4=DecisionTreeRegressor(max_depth=10)"
   ]
  },
  {
   "cell_type": "code",
   "execution_count": 12,
   "id": "b98dbf5b-e4f8-4677-af57-5119a20120d3",
   "metadata": {},
   "outputs": [],
   "source": [
    "est=[('dt1',dt1),('dt2',dt2),('dt3',dt3),('dt4',dt4)]"
   ]
  },
  {
   "cell_type": "code",
   "execution_count": 13,
   "id": "8adb30a4-b0f1-4cc4-86f1-fa5e385c46e4",
   "metadata": {},
   "outputs": [
    {
     "name": "stdout",
     "output_type": "stream",
     "text": [
      "voting Regression 0.56\n"
     ]
    }
   ],
   "source": [
    "vr=VotingRegressor(est)\n",
    "scores=cross_val_score(vr,X,y,scoring='r2',cv=5)\n",
    "print('voting Regression',np.round(np.mean(scores),2))"
   ]
  },
  {
   "cell_type": "code",
   "execution_count": null,
   "id": "228d41f7-f885-4b09-b651-e58885591afd",
   "metadata": {},
   "outputs": [],
   "source": []
  }
 ],
 "metadata": {
  "kernelspec": {
   "display_name": "Python 3 (ipykernel)",
   "language": "python",
   "name": "python3"
  },
  "language_info": {
   "codemirror_mode": {
    "name": "ipython",
    "version": 3
   },
   "file_extension": ".py",
   "mimetype": "text/x-python",
   "name": "python",
   "nbconvert_exporter": "python",
   "pygments_lexer": "ipython3",
   "version": "3.12.0"
  }
 },
 "nbformat": 4,
 "nbformat_minor": 5
}
