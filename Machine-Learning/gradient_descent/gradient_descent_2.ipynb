{
 "cells": [
  {
   "cell_type": "code",
   "execution_count": 52,
   "id": "e60a93ff-10b0-44ea-bacc-c21814dda22f",
   "metadata": {},
   "outputs": [],
   "source": [
    "from sklearn.datasets import load_diabetes\n",
    "import numpy as np\n",
    "from sklearn.linear_model import LinearRegression\n",
    "from sklearn.metrics import r2_score\n",
    "from sklearn.model_selection import train_test_split"
   ]
  },
  {
   "cell_type": "code",
   "execution_count": 53,
   "id": "a5437677-b8d6-4306-a1d5-8dfd39e7ff67",
   "metadata": {},
   "outputs": [],
   "source": [
    "X,y=load_diabetes(return_X_y=True)"
   ]
  },
  {
   "cell_type": "code",
   "execution_count": 54,
   "id": "ab4bc0e9-7e33-4eb8-8d8e-d96ca78e37a6",
   "metadata": {},
   "outputs": [
    {
     "name": "stdout",
     "output_type": "stream",
     "text": [
      "(442, 10)\n",
      "(442,)\n"
     ]
    }
   ],
   "source": [
    "print(X.shape)\n",
    "print(y.shape)"
   ]
  },
  {
   "cell_type": "code",
   "execution_count": 55,
   "id": "52feb4df-9015-43dd-9079-587c08be6659",
   "metadata": {},
   "outputs": [],
   "source": [
    "X_train,X_test,y_train,y_test=train_test_split(X,y,test_size=0.2,random_state=2)"
   ]
  },
  {
   "cell_type": "code",
   "execution_count": 56,
   "id": "7ad0eefe-3a2f-4df7-b737-2eaece1009f7",
   "metadata": {},
   "outputs": [],
   "source": [
    "reg=LinearRegression()"
   ]
  },
  {
   "cell_type": "code",
   "execution_count": 57,
   "id": "db02b03d-1580-47d4-adb0-6bf63ac9524b",
   "metadata": {},
   "outputs": [
    {
     "data": {
      "text/html": [
       "<style>#sk-container-id-2 {color: black;}#sk-container-id-2 pre{padding: 0;}#sk-container-id-2 div.sk-toggleable {background-color: white;}#sk-container-id-2 label.sk-toggleable__label {cursor: pointer;display: block;width: 100%;margin-bottom: 0;padding: 0.3em;box-sizing: border-box;text-align: center;}#sk-container-id-2 label.sk-toggleable__label-arrow:before {content: \"▸\";float: left;margin-right: 0.25em;color: #696969;}#sk-container-id-2 label.sk-toggleable__label-arrow:hover:before {color: black;}#sk-container-id-2 div.sk-estimator:hover label.sk-toggleable__label-arrow:before {color: black;}#sk-container-id-2 div.sk-toggleable__content {max-height: 0;max-width: 0;overflow: hidden;text-align: left;background-color: #f0f8ff;}#sk-container-id-2 div.sk-toggleable__content pre {margin: 0.2em;color: black;border-radius: 0.25em;background-color: #f0f8ff;}#sk-container-id-2 input.sk-toggleable__control:checked~div.sk-toggleable__content {max-height: 200px;max-width: 100%;overflow: auto;}#sk-container-id-2 input.sk-toggleable__control:checked~label.sk-toggleable__label-arrow:before {content: \"▾\";}#sk-container-id-2 div.sk-estimator input.sk-toggleable__control:checked~label.sk-toggleable__label {background-color: #d4ebff;}#sk-container-id-2 div.sk-label input.sk-toggleable__control:checked~label.sk-toggleable__label {background-color: #d4ebff;}#sk-container-id-2 input.sk-hidden--visually {border: 0;clip: rect(1px 1px 1px 1px);clip: rect(1px, 1px, 1px, 1px);height: 1px;margin: -1px;overflow: hidden;padding: 0;position: absolute;width: 1px;}#sk-container-id-2 div.sk-estimator {font-family: monospace;background-color: #f0f8ff;border: 1px dotted black;border-radius: 0.25em;box-sizing: border-box;margin-bottom: 0.5em;}#sk-container-id-2 div.sk-estimator:hover {background-color: #d4ebff;}#sk-container-id-2 div.sk-parallel-item::after {content: \"\";width: 100%;border-bottom: 1px solid gray;flex-grow: 1;}#sk-container-id-2 div.sk-label:hover label.sk-toggleable__label {background-color: #d4ebff;}#sk-container-id-2 div.sk-serial::before {content: \"\";position: absolute;border-left: 1px solid gray;box-sizing: border-box;top: 0;bottom: 0;left: 50%;z-index: 0;}#sk-container-id-2 div.sk-serial {display: flex;flex-direction: column;align-items: center;background-color: white;padding-right: 0.2em;padding-left: 0.2em;position: relative;}#sk-container-id-2 div.sk-item {position: relative;z-index: 1;}#sk-container-id-2 div.sk-parallel {display: flex;align-items: stretch;justify-content: center;background-color: white;position: relative;}#sk-container-id-2 div.sk-item::before, #sk-container-id-2 div.sk-parallel-item::before {content: \"\";position: absolute;border-left: 1px solid gray;box-sizing: border-box;top: 0;bottom: 0;left: 50%;z-index: -1;}#sk-container-id-2 div.sk-parallel-item {display: flex;flex-direction: column;z-index: 1;position: relative;background-color: white;}#sk-container-id-2 div.sk-parallel-item:first-child::after {align-self: flex-end;width: 50%;}#sk-container-id-2 div.sk-parallel-item:last-child::after {align-self: flex-start;width: 50%;}#sk-container-id-2 div.sk-parallel-item:only-child::after {width: 0;}#sk-container-id-2 div.sk-dashed-wrapped {border: 1px dashed gray;margin: 0 0.4em 0.5em 0.4em;box-sizing: border-box;padding-bottom: 0.4em;background-color: white;}#sk-container-id-2 div.sk-label label {font-family: monospace;font-weight: bold;display: inline-block;line-height: 1.2em;}#sk-container-id-2 div.sk-label-container {text-align: center;}#sk-container-id-2 div.sk-container {/* jupyter's `normalize.less` sets `[hidden] { display: none; }` but bootstrap.min.css set `[hidden] { display: none !important; }` so we also need the `!important` here to be able to override the default hidden behavior on the sphinx rendered scikit-learn.org. See: https://github.com/scikit-learn/scikit-learn/issues/21755 */display: inline-block !important;position: relative;}#sk-container-id-2 div.sk-text-repr-fallback {display: none;}</style><div id=\"sk-container-id-2\" class=\"sk-top-container\"><div class=\"sk-text-repr-fallback\"><pre>LinearRegression()</pre><b>In a Jupyter environment, please rerun this cell to show the HTML representation or trust the notebook. <br />On GitHub, the HTML representation is unable to render, please try loading this page with nbviewer.org.</b></div><div class=\"sk-container\" hidden><div class=\"sk-item\"><div class=\"sk-estimator sk-toggleable\"><input class=\"sk-toggleable__control sk-hidden--visually\" id=\"sk-estimator-id-2\" type=\"checkbox\" checked><label for=\"sk-estimator-id-2\" class=\"sk-toggleable__label sk-toggleable__label-arrow\">LinearRegression</label><div class=\"sk-toggleable__content\"><pre>LinearRegression()</pre></div></div></div></div></div>"
      ],
      "text/plain": [
       "LinearRegression()"
      ]
     },
     "execution_count": 57,
     "metadata": {},
     "output_type": "execute_result"
    }
   ],
   "source": [
    "reg.fit(X_train,y_train)"
   ]
  },
  {
   "cell_type": "code",
   "execution_count": 58,
   "id": "7872d302-ab2a-4ac9-8daf-9abe008be608",
   "metadata": {},
   "outputs": [
    {
     "name": "stdout",
     "output_type": "stream",
     "text": [
      "151.88331005254167\n",
      "[  -9.15865318 -205.45432163  516.69374454  340.61999905 -895.5520019\n",
      "  561.22067904  153.89310954  126.73139688  861.12700152   52.42112238]\n"
     ]
    }
   ],
   "source": [
    "print(reg.intercept_)\n",
    "print(reg.coef_)"
   ]
  },
  {
   "cell_type": "code",
   "execution_count": 59,
   "id": "5e5959b5-652f-42e4-9b3c-bb6a2b62eae3",
   "metadata": {},
   "outputs": [
    {
     "data": {
      "text/plain": [
       "0.4399338661568968"
      ]
     },
     "execution_count": 59,
     "metadata": {},
     "output_type": "execute_result"
    }
   ],
   "source": [
    "y_pred_reg=reg.predict(X_test)\n",
    "r2_score(y_test,y_pred_reg)"
   ]
  },
  {
   "cell_type": "code",
   "execution_count": 60,
   "id": "294fe4e8-1fc2-4076-b218-3dc52449330e",
   "metadata": {},
   "outputs": [],
   "source": [
    "class GDRegressor:\n",
    "    def __init__(self,learning_rate=0.01,epochs=100):\n",
    "        self.lr=learning_rate\n",
    "        self.epochs=epochs\n",
    "        self.coef_=None\n",
    "        self.intercept_=None\n",
    "    def fit(self,X_train,y_train):\n",
    "        self.intercept_=0\n",
    "        self.coef_=np.ones(X_train.shape[1])\n",
    "        for i in range(self.epochs):\n",
    "            \n",
    "            #update all the coef and intercept \n",
    "            \n",
    "            y_hat=np.dot(X_train,self.coef_) + self.intercept_\n",
    "            intercept_der=-2*np.mean(y_train-y_hat)\n",
    "            self.intercept_=self.intercept_ - (self.lr * intercept_der)\n",
    "            # update coef_\n",
    "\n",
    "           \n",
    "            coef_der= -2*np.dot((y_train-y_hat),X_train)/X_train.shape[0]\n",
    "            self.coef_=self.coef_ - (self.lr*coef_der)\n",
    "        print(self.intercept_,self.coef_)\n",
    "    def predict(self,X_test):\n",
    "        return np.dot(X_test,self.coef_) + self.intercept_"
   ]
  },
  {
   "cell_type": "code",
   "execution_count": 61,
   "id": "ae4230bf-2030-4d30-a03b-0443489015cb",
   "metadata": {},
   "outputs": [],
   "source": [
    "gdr=GDRegressor(epochs=1000,learning_rate=0.5)"
   ]
  },
  {
   "cell_type": "code",
   "execution_count": 62,
   "id": "78eec9cc-ec04-49a1-8a66-920fa72ade7c",
   "metadata": {},
   "outputs": [
    {
     "name": "stdout",
     "output_type": "stream",
     "text": [
      "152.01351687661833 [  14.38990585 -173.7235727   491.54898524  323.91524824  -39.32648042\n",
      " -116.01061213 -194.04077415  103.38135565  451.63448787   97.57218278]\n"
     ]
    }
   ],
   "source": [
    "gdr.fit(X_train,y_train)"
   ]
  },
  {
   "cell_type": "code",
   "execution_count": 63,
   "id": "23814e73-5008-47a7-982e-a6eaa4d06e2d",
   "metadata": {},
   "outputs": [],
   "source": [
    "y_pred=gdr.predict(X_test)"
   ]
  },
  {
   "cell_type": "code",
   "execution_count": 64,
   "id": "49521305-54d7-441e-9fe7-cd23b400ee28",
   "metadata": {},
   "outputs": [
    {
     "data": {
      "text/plain": [
       "0.4534503034722803"
      ]
     },
     "execution_count": 64,
     "metadata": {},
     "output_type": "execute_result"
    }
   ],
   "source": [
    "r2_score(y_test,y_pred)"
   ]
  },
  {
   "cell_type": "code",
   "execution_count": null,
   "id": "bf8c10fa-f1f6-4d5a-a516-6b10856c74b2",
   "metadata": {},
   "outputs": [],
   "source": []
  },
  {
   "cell_type": "code",
   "execution_count": null,
   "id": "738ce96f-4b03-4885-8547-034a102cbb6e",
   "metadata": {},
   "outputs": [],
   "source": []
  },
  {
   "cell_type": "markdown",
   "id": "516c773b-7968-4d4e-ba73-9f9988efdb02",
   "metadata": {},
   "source": [
    "# stochasric gradient descent"
   ]
  },
  {
   "cell_type": "code",
   "execution_count": 65,
   "id": "a5e0b85d-73b4-498e-8f22-bd30274d54da",
   "metadata": {},
   "outputs": [],
   "source": [
    "class SGDRegressor:\n",
    "    def __init__(self,learning_rate=0.01,epochs=100):\n",
    "        self.lr=learning_rate\n",
    "        self.epochs=epochs\n",
    "        self.coef_=None\n",
    "        self.intercept_=None\n",
    "    def fit(self,X_train,y_train):\n",
    "        self.intercept_=0\n",
    "        self.coef_=np.ones(X_train.shape[1])\n",
    "        for i in range(self.epochs):\n",
    "            for j in range (self.epochs):\n",
    "                idx=np.random.randint(0,X_train.shape[0])\n",
    "                y_hat=np.dot(X_train[idx],self.coef_) + self.intercept_\n",
    "                intercept_der= -2*(y_train[idx]-y_hat)\n",
    "                self.intercept_=self.intercept_ - (self.lr *intercept_der) \n",
    "                coef_der=  -2*np.dot((y_train[idx] - y_hat),X_train[idx])\n",
    "                self.coef_=self.coef_ - (self.lr*coef_der)\n",
    "           \n",
    "            \n",
    "        print(self.intercept_,self.coef_)\n",
    "    def predict(self,X_test):\n",
    "        return np.dot(X_test,self.coef_) + self.intercept_"
   ]
  },
  {
   "cell_type": "code",
   "execution_count": 66,
   "id": "52a97ae6-57b3-4e49-9813-41e2daf1d4d4",
   "metadata": {},
   "outputs": [],
   "source": [
    "sgd=SGDRegressor(0.01,50)"
   ]
  },
  {
   "cell_type": "code",
   "execution_count": 67,
   "id": "e51c0a3d-a80d-4377-a677-a221b12f43ce",
   "metadata": {},
   "outputs": [
    {
     "name": "stdout",
     "output_type": "stream",
     "text": [
      "153.04088697462208 [ 33.42573004   2.7432287   94.66431853  69.23882915  26.50492568\n",
      "  20.49485657 -60.00330482  60.69215689  90.70711024  53.4352473 ]\n"
     ]
    }
   ],
   "source": [
    "sgd.fit(X_train,y_train)"
   ]
  },
  {
   "cell_type": "code",
   "execution_count": 68,
   "id": "06494d3b-516d-4bdb-a2d3-4c5b30e547de",
   "metadata": {},
   "outputs": [],
   "source": [
    "y_pred=sgd.predict(X_test)"
   ]
  },
  {
   "cell_type": "code",
   "execution_count": 69,
   "id": "9583c6b0-7ae2-4553-b28b-1b8197de1452",
   "metadata": {},
   "outputs": [
    {
     "data": {
      "text/plain": [
       "0.22020557036173138"
      ]
     },
     "execution_count": 69,
     "metadata": {},
     "output_type": "execute_result"
    }
   ],
   "source": [
    "r2_score(y_test,y_pred)"
   ]
  },
  {
   "cell_type": "code",
   "execution_count": null,
   "id": "beff5f97-7922-417a-90a0-608f88debaa0",
   "metadata": {},
   "outputs": [],
   "source": []
  },
  {
   "cell_type": "code",
   "execution_count": null,
   "id": "df9fa4f2-80e5-438c-8efd-70a04417977b",
   "metadata": {},
   "outputs": [],
   "source": []
  },
  {
   "cell_type": "markdown",
   "id": "d5a3ae12-ee35-4161-bf5a-bf0ccdcee5ab",
   "metadata": {},
   "source": [
    "# mini batch gradient descent"
   ]
  },
  {
   "cell_type": "code",
   "execution_count": 70,
   "id": "f6c89741-25b6-44b0-82e3-f3feb582580d",
   "metadata": {},
   "outputs": [
    {
     "name": "stdout",
     "output_type": "stream",
     "text": [
      "151.88331005254167\n",
      "[  -9.15865318 -205.45432163  516.69374454  340.61999905 -895.5520019\n",
      "  561.22067904  153.89310954  126.73139688  861.12700152   52.42112238]\n"
     ]
    },
    {
     "data": {
      "text/plain": [
       "0.4399338661568968"
      ]
     },
     "execution_count": 70,
     "metadata": {},
     "output_type": "execute_result"
    }
   ],
   "source": [
    "print(reg.intercept_)\n",
    "print(reg.coef_)\n",
    "r2_score(y_test,y_pred_reg)"
   ]
  },
  {
   "cell_type": "code",
   "execution_count": null,
   "id": "a9940bab-9643-4a1a-a5dd-38e5f3362a8e",
   "metadata": {},
   "outputs": [],
   "source": []
  },
  {
   "cell_type": "code",
   "execution_count": 102,
   "id": "c022b3e6-8fd4-4452-82d5-7a2bf329e0c9",
   "metadata": {},
   "outputs": [],
   "source": [
    "import random\n",
    "class MGDRegressor:\n",
    "    def __init__(self,batch_size,learning_rate=0.01,epochs=100):\n",
    "        self.lr=learning_rate\n",
    "        self.epochs=epochs\n",
    "        self.coef_=None\n",
    "        self.intercept_=None\n",
    "        self.batch_size=batch_size\n",
    "    def fit(self,X_train,y_train):\n",
    "        self.intercept_=0\n",
    "        self.coef_=np.ones(X_train.shape[1])\n",
    "        for i in range(self.epochs):\n",
    "            for j in range (int(X_train.shape[0]/self.batch_size)):\n",
    "                \n",
    "                idx=random.sample(range(X_train.shape[0]),self.batch_size)\n",
    "                \n",
    "                y_hat=np.dot(X_train[idx],self.coef_) + self.intercept_\n",
    "                intercept_der= -2*np.mean(y_train[idx]-y_hat)\n",
    "                self.intercept_=self.intercept_ - (self.lr *intercept_der) \n",
    "                coef_der=  -2*np.dot((y_train[idx] - y_hat),X_train[idx])\n",
    "                self.coef_=self.coef_ - (self.lr*coef_der)\n",
    "           \n",
    "            \n",
    "        print(self.intercept_,self.coef_)\n",
    "    def predict(self,X_test):\n",
    "        return np.dot(X_test,self.coef_) + self.intercept_"
   ]
  },
  {
   "cell_type": "code",
   "execution_count": null,
   "id": "ffdafc16-7b7a-4042-8f83-f9abd8f26bec",
   "metadata": {},
   "outputs": [],
   "source": [
    "\n"
   ]
  },
  {
   "cell_type": "code",
   "execution_count": 103,
   "id": "3f5afa30-8e1a-4c2b-b6c4-65eaec785b43",
   "metadata": {},
   "outputs": [
    {
     "data": {
      "text/plain": [
       "(10, 10)"
      ]
     },
     "execution_count": 103,
     "metadata": {},
     "output_type": "execute_result"
    }
   ],
   "source": [
    "X_train[[144, 51, 260, 291, 110, 328, 135, 87, 227, 129]].shape"
   ]
  },
  {
   "cell_type": "code",
   "execution_count": 104,
   "id": "bf49f3ff-8178-4e0b-9894-d0ecfed5f05a",
   "metadata": {},
   "outputs": [],
   "source": [
    "mgr=MGDRegressor(batch_size=int(X_train.shape[0]/10),learning_rate=0.01,epochs=50)"
   ]
  },
  {
   "cell_type": "code",
   "execution_count": 105,
   "id": "6350eac3-6c15-4bdc-9527-0ee085efabc4",
   "metadata": {},
   "outputs": [
    {
     "name": "stdout",
     "output_type": "stream",
     "text": [
      "150.851623501761 [  67.76254838  -62.19263062  341.05066957  246.66110149   22.16496003\n",
      "  -27.92437721 -167.70709631  124.12420413  325.32361194  131.62401109]\n"
     ]
    }
   ],
   "source": [
    "mgr.fit(X_train,y_train)"
   ]
  },
  {
   "cell_type": "code",
   "execution_count": 93,
   "id": "d3428b11-08e3-472c-93ef-4ca62ba9d02d",
   "metadata": {},
   "outputs": [
    {
     "data": {
      "text/plain": [
       "35"
      ]
     },
     "execution_count": 93,
     "metadata": {},
     "output_type": "execute_result"
    }
   ],
   "source": [
    "batch_size=int(X_train.shape[0]/10)\n",
    "batch_size"
   ]
  },
  {
   "cell_type": "code",
   "execution_count": 106,
   "id": "e394c210-1b4d-4fff-bb0b-fa87d1cb1af8",
   "metadata": {},
   "outputs": [],
   "source": [
    "y_pred=mgr.predict(X_test)"
   ]
  },
  {
   "cell_type": "code",
   "execution_count": 107,
   "id": "d9e0e6c3-4a84-4cc0-a7cd-95aaef3f2d18",
   "metadata": {},
   "outputs": [
    {
     "data": {
      "text/plain": [
       "0.42862642945252616"
      ]
     },
     "execution_count": 107,
     "metadata": {},
     "output_type": "execute_result"
    }
   ],
   "source": [
    "r2_score(y_test,y_pred)"
   ]
  },
  {
   "cell_type": "code",
   "execution_count": null,
   "id": "ce2eb446-5e62-4b8a-b7ce-3c2f88ab0b65",
   "metadata": {},
   "outputs": [],
   "source": []
  },
  {
   "cell_type": "code",
   "execution_count": null,
   "id": "74bcae72-3a27-49c8-91ce-d9ebdef29ac8",
   "metadata": {},
   "outputs": [],
   "source": []
  },
  {
   "cell_type": "code",
   "execution_count": null,
   "id": "8a0df220-2575-43ca-870a-f98c17d8d50a",
   "metadata": {},
   "outputs": [],
   "source": []
  },
  {
   "cell_type": "code",
   "execution_count": 109,
   "id": "8a854362-6de9-40dd-a7ce-41f1ff15cf8b",
   "metadata": {},
   "outputs": [],
   "source": [
    "from sklearn.linear_model import SGDRegressor"
   ]
  },
  {
   "cell_type": "code",
   "execution_count": 110,
   "id": "3c34c673-7dac-4d8f-a873-f23ed4111fe8",
   "metadata": {},
   "outputs": [],
   "source": [
    "sgd=SGDRegressor(learning_rate='constant',eta0=0.2)"
   ]
  },
  {
   "cell_type": "code",
   "execution_count": 116,
   "id": "d4517a94-1bb4-4d63-8da1-ac2f043fe23d",
   "metadata": {},
   "outputs": [],
   "source": [
    "batch_size=35\n",
    "for i in range(100):\n",
    "\n",
    "    idx=random.sample(range(X_train.shape[0]),batch_size)\n",
    "    sgd.partial_fit(X_train[idx],y_train[idx])"
   ]
  },
  {
   "cell_type": "code",
   "execution_count": 117,
   "id": "17afd613-0450-4ce8-849d-cbbbfd520164",
   "metadata": {},
   "outputs": [
    {
     "data": {
      "text/plain": [
       "array([ -17.26107844, -187.76525235,  524.6040622 ,  323.89986529,\n",
       "        -54.60247269,  -97.58053182, -184.93797975,   79.21722693,\n",
       "        464.95812467,   56.69915556])"
      ]
     },
     "execution_count": 117,
     "metadata": {},
     "output_type": "execute_result"
    }
   ],
   "source": [
    "sgd.coef_"
   ]
  },
  {
   "cell_type": "code",
   "execution_count": 118,
   "id": "98e714d3-2d3d-4e69-8948-c817f5e3f429",
   "metadata": {},
   "outputs": [
    {
     "data": {
      "text/plain": [
       "array([122.92018572])"
      ]
     },
     "execution_count": 118,
     "metadata": {},
     "output_type": "execute_result"
    }
   ],
   "source": [
    "sgd.intercept_"
   ]
  },
  {
   "cell_type": "code",
   "execution_count": null,
   "id": "ef1b1435-a687-48aa-97fc-e853d54e4364",
   "metadata": {},
   "outputs": [],
   "source": []
  }
 ],
 "metadata": {
  "kernelspec": {
   "display_name": "Python 3 (ipykernel)",
   "language": "python",
   "name": "python3"
  },
  "language_info": {
   "codemirror_mode": {
    "name": "ipython",
    "version": 3
   },
   "file_extension": ".py",
   "mimetype": "text/x-python",
   "name": "python",
   "nbconvert_exporter": "python",
   "pygments_lexer": "ipython3",
   "version": "3.12.0"
  }
 },
 "nbformat": 4,
 "nbformat_minor": 5
}
